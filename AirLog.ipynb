{
 "cells": [
  {
   "cell_type": "markdown",
   "metadata": {},
   "source": [
    "# AirLog V1.0.0"
   ]
  },
  {
   "cell_type": "markdown",
   "metadata": {},
   "source": [
    "## save air voltage signals to a CSV file"
   ]
  },
  {
   "cell_type": "markdown",
   "metadata": {},
   "source": [
    "## Algorithm: \n",
    "repeat forever:\n",
    "    1. read 128 data from serial port\n",
    "    2. average them\n",
    "    3. write the average to csv file"
   ]
  },
  {
   "cell_type": "code",
   "execution_count": 1,
   "metadata": {
    "collapsed": false
   },
   "outputs": [],
   "source": [
    "import serial\n",
    "from datetime_stamp import get_date_stamp, get_datetime_stamp"
   ]
  },
  {
   "cell_type": "code",
   "execution_count": 2,
   "metadata": {
    "collapsed": false
   },
   "outputs": [
    {
     "name": "stdout",
     "output_type": "stream",
     "text": [
      "Serial<id=0x24a2c1b4940, open=True>(port='COM3', baudrate=9600, bytesize=8, parity='N', stopbits=1, timeout=1, xonxoff=False, rtscts=False, dsrdtr=False)\n"
     ]
    }
   ],
   "source": [
    "port_name = 'COM3'\n",
    "baud = 9600\n",
    "timeout = 1\n",
    "port = serial.Serial(port_name, baud, timeout=timeout)\n",
    "\n",
    "if port is None:\n",
    "    print('Cannot open serial port.')\n",
    "    print('Please unplug the USB cable and then reconnect.')\n",
    "else:\n",
    "    print(port)"
   ]
  },
  {
   "cell_type": "code",
   "execution_count": 3,
   "metadata": {
    "collapsed": false
   },
   "outputs": [
    {
     "name": "stdout",
     "output_type": "stream",
     "text": [
      "2017-05-08 AirView.csv\n"
     ]
    }
   ],
   "source": [
    "date_stamp = get_date_stamp()\n",
    "short_csv_name = date_stamp + ' AirView' + '.csv'\n",
    "print(short_csv_name)"
   ]
  },
  {
   "cell_type": "code",
   "execution_count": 4,
   "metadata": {
    "collapsed": true
   },
   "outputs": [],
   "source": [
    "csv_file = open(short_csv_name, 'a')"
   ]
  },
  {
   "cell_type": "code",
   "execution_count": null,
   "metadata": {
    "collapsed": false
   },
   "outputs": [],
   "source": [
    "port.flushInput() # flush serial input buffer, discarding all its contents\n",
    "data_number = 0\n",
    "\n",
    "while True: # infinite loop: read line from serial port\n",
    "    buffer_size = 128\n",
    "    buffer = []\n",
    "    buffer_sum = 0\n",
    "    for i in range(buffer_size):\n",
    "        line = port.readline().decode('utf8')\n",
    "        air_voltage = float(line)\n",
    "        buffer.append(air_voltage)\n",
    "        buffer_sum += air_voltage\n",
    "        datetime_stamp = get_datetime_stamp()\n",
    "        # print(str(i+1), ':', datetime_stamp, line)\n",
    "    average_air_voltage = buffer_sum / buffer_size\n",
    "    data = datetime_stamp + ',' + str(average_air_voltage) + '\\n'\n",
    "    data_number += 1\n",
    "    # print(str(data_number), data)\n",
    "    csv_file.write(data)\n",
    "    csv_file.flush()"
   ]
  },
  {
   "cell_type": "code",
   "execution_count": null,
   "metadata": {
    "collapsed": true
   },
   "outputs": [],
   "source": []
  },
  {
   "cell_type": "code",
   "execution_count": null,
   "metadata": {
    "collapsed": false
   },
   "outputs": [],
   "source": [
    "csv_file.close()\n",
    "\n",
    "if port is not None:\n",
    "    port.close()\n",
    "print(port)"
   ]
  },
  {
   "cell_type": "code",
   "execution_count": null,
   "metadata": {
    "collapsed": true
   },
   "outputs": [],
   "source": []
  }
 ],
 "metadata": {
  "kernelspec": {
   "display_name": "Python 3",
   "language": "python",
   "name": "python3"
  },
  "language_info": {
   "codemirror_mode": {
    "name": "ipython",
    "version": 3
   },
   "file_extension": ".py",
   "mimetype": "text/x-python",
   "name": "python",
   "nbconvert_exporter": "python",
   "pygments_lexer": "ipython3",
   "version": "3.6.0"
  }
 },
 "nbformat": 4,
 "nbformat_minor": 2
}
