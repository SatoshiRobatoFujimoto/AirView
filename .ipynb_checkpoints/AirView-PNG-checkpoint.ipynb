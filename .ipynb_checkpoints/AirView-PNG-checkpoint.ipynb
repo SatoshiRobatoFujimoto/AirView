{
 "cells": [
  {
   "cell_type": "markdown",
   "metadata": {},
   "source": [
    "# AirView-PNG"
   ]
  },
  {
   "cell_type": "markdown",
   "metadata": {},
   "source": [
    "## plot air voltage signals from a CSV file"
   ]
  },
  {
   "cell_type": "code",
   "execution_count": 1,
   "metadata": {
    "collapsed": false
   },
   "outputs": [
    {
     "ename": "ModuleNotFoundError",
     "evalue": "No module named 'bokeh.plotting'",
     "output_type": "error",
     "traceback": [
      "\u001b[0;31m---------------------------------------------------------------------------\u001b[0m",
      "\u001b[0;31mModuleNotFoundError\u001b[0m                       Traceback (most recent call last)",
      "\u001b[0;32m<ipython-input-1-ab1d9cbcd27e>\u001b[0m in \u001b[0;36m<module>\u001b[0;34m()\u001b[0m\n\u001b[1;32m      1\u001b[0m \u001b[1;32mimport\u001b[0m \u001b[0mpandas\u001b[0m \u001b[1;32mas\u001b[0m \u001b[0mpd\u001b[0m\u001b[1;33m\u001b[0m\u001b[0m\n\u001b[1;32m      2\u001b[0m \u001b[1;32mimport\u001b[0m \u001b[0mnumpy\u001b[0m \u001b[1;32mas\u001b[0m \u001b[0mnp\u001b[0m\u001b[1;33m\u001b[0m\u001b[0m\n\u001b[0;32m----> 3\u001b[0;31m \u001b[1;32mfrom\u001b[0m \u001b[0mbokeh\u001b[0m\u001b[1;33m.\u001b[0m\u001b[0mplotting\u001b[0m \u001b[1;32mimport\u001b[0m \u001b[0mfigure\u001b[0m\u001b[1;33m,\u001b[0m \u001b[0moutput_file\u001b[0m\u001b[1;33m,\u001b[0m \u001b[0mshow\u001b[0m\u001b[1;33m,\u001b[0m \u001b[0moutput_notebook\u001b[0m\u001b[1;33m\u001b[0m\u001b[0m\n\u001b[0m\u001b[1;32m      4\u001b[0m \u001b[1;32mfrom\u001b[0m \u001b[0mbokeh\u001b[0m\u001b[1;33m.\u001b[0m\u001b[0mmodels\u001b[0m \u001b[1;32mimport\u001b[0m \u001b[0mDatetimeTickFormatter\u001b[0m\u001b[1;33m\u001b[0m\u001b[0m\n\u001b[1;32m      5\u001b[0m \u001b[1;32mfrom\u001b[0m \u001b[0mbokeh\u001b[0m\u001b[1;33m.\u001b[0m\u001b[0mio\u001b[0m \u001b[1;32mimport\u001b[0m \u001b[0mexport_png\u001b[0m\u001b[1;33m\u001b[0m\u001b[0m\n",
      "\u001b[0;31mModuleNotFoundError\u001b[0m: No module named 'bokeh.plotting'"
     ]
    }
   ],
   "source": [
    "import pandas as pd\n",
    "import numpy as np\n",
    "from bokeh.plotting import figure #, output_file, show, output_notebook\n",
    "from bokeh.models import DatetimeTickFormatter\n",
    "from bokeh.io import export_png\n",
    "\n",
    "graph_title = 'AirView V4.0.6 宜蘭站 Yilan Station  空氣2號 Air 2 (Arduino Uno + LF298N)'\n",
    "csv_file_name = '2017-05-16 AirView.csv'\n",
    "df = pd.read_csv(csv_file_name, names=['Time', 'Air Voltage (mV)'], \n",
    "                 parse_dates=['Time'])\n",
    "df\n",
    "\n",
    "#output_notebook()\n",
    "#output_file(\"AirView.html\")\n",
    "\n",
    "p = figure(plot_width=900, plot_height=500, x_axis_type=\"datetime\",\n",
    "        title=graph_title, \n",
    "        x_axis_label='Time', y_axis_label='Air Voltage (mV)')\n",
    "\n",
    "p.xaxis[0].formatter = DatetimeTickFormatter(\n",
    "        years = '%Y',\n",
    "        months = '%Y-%m',\n",
    "        days = '%Y-%m-%d',\n",
    "        hours = '%H:%M:%S',\n",
    "        hourmin = '%H:%M:%S',\n",
    "        minutes = '%H:%M:%S',\n",
    "        minsec = '%H:%M:%S',\n",
    "        seconds = '%H:%M:%S',\n",
    "        milliseconds = '%H:%M:%S',\n",
    "        microseconds = '%H:%M:%S'\n",
    "        )\n",
    "\n",
    "p.line(df['Time'], df['Air Voltage (mV)'])\n",
    "\n",
    "#show(p)\n",
    "export_png(p, filename=\"AirView.png\")"
   ]
  },
  {
   "cell_type": "code",
   "execution_count": null,
   "metadata": {
    "collapsed": true
   },
   "outputs": [],
   "source": []
  }
 ],
 "metadata": {
  "kernelspec": {
   "display_name": "Python 3",
   "language": "python",
   "name": "python3"
  },
  "language_info": {
   "codemirror_mode": {
    "name": "ipython",
    "version": 3
   },
   "file_extension": ".py",
   "mimetype": "text/x-python",
   "name": "python",
   "nbconvert_exporter": "python",
   "pygments_lexer": "ipython3",
   "version": "3.6.0"
  }
 },
 "nbformat": 4,
 "nbformat_minor": 2
}
