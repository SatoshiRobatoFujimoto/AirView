{
 "cells": [
  {
   "cell_type": "markdown",
   "metadata": {},
   "source": [
    "# AirLog V1.0.4"
   ]
  },
  {
   "cell_type": "markdown",
   "metadata": {},
   "source": [
    "## save air voltage signals to a CSV file"
   ]
  },
  {
   "cell_type": "markdown",
   "metadata": {},
   "source": [
    "## Algorithm: \n",
    "repeat forever:\n",
    "    1. read 128 data from serial port\n",
    "    2. average them\n",
    "    3. write the average to csv file"
   ]
  },
  {
   "cell_type": "code",
   "execution_count": 1,
   "metadata": {},
   "outputs": [
    {
     "name": "stdout",
     "output_type": "stream",
     "text": [
      "Serial<id=0x1ed359a3d68, open=True>(port='COM3', baudrate=9600, bytesize=8, parity='N', stopbits=1, timeout=1, xonxoff=False, rtscts=False, dsrdtr=False)\n",
      "Discard first read: it may be incomplete data\n",
      "Empty line.\n",
      "2017-05-16 AirView.csv\n",
      "AirLog will run forever.\n",
      "If you want to stop AirLog, select Kernel->Interrupt.\n",
      "CSV file has been closed: True\n",
      "Serial<id=0x1ed359a3d68, open=False>(port='COM3', baudrate=9600, bytesize=8, parity='N', stopbits=1, timeout=1, xonxoff=False, rtscts=False, dsrdtr=False)\n"
     ]
    },
    {
     "ename": "KeyboardInterrupt",
     "evalue": "",
     "output_type": "error",
     "traceback": [
      "\u001b[1;31m---------------------------------------------------------------------------\u001b[0m",
      "\u001b[1;31mKeyboardInterrupt\u001b[0m                         Traceback (most recent call last)",
      "\u001b[1;32m<ipython-input-1-64ddde6d1960>\u001b[0m in \u001b[0;36m<module>\u001b[1;34m()\u001b[0m\n\u001b[0;32m     57\u001b[0m             \u001b[0mbuffer_sum\u001b[0m \u001b[1;33m=\u001b[0m \u001b[1;36m0\u001b[0m\u001b[1;33m\u001b[0m\u001b[0m\n\u001b[0;32m     58\u001b[0m             \u001b[1;32mfor\u001b[0m \u001b[0mi\u001b[0m \u001b[1;32min\u001b[0m \u001b[0mrange\u001b[0m\u001b[1;33m(\u001b[0m\u001b[0mbuffer_size\u001b[0m\u001b[1;33m)\u001b[0m\u001b[1;33m:\u001b[0m\u001b[1;33m\u001b[0m\u001b[0m\n\u001b[1;32m---> 59\u001b[1;33m                 \u001b[0mline\u001b[0m \u001b[1;33m=\u001b[0m \u001b[0mport\u001b[0m\u001b[1;33m.\u001b[0m\u001b[0mreadline\u001b[0m\u001b[1;33m(\u001b[0m\u001b[1;33m)\u001b[0m\u001b[1;33m.\u001b[0m\u001b[0mdecode\u001b[0m\u001b[1;33m(\u001b[0m\u001b[1;34m'utf8'\u001b[0m\u001b[1;33m)\u001b[0m\u001b[1;33m\u001b[0m\u001b[0m\n\u001b[0m\u001b[0;32m     60\u001b[0m                 \u001b[1;32mif\u001b[0m \u001b[0mline\u001b[0m \u001b[1;32mis\u001b[0m \u001b[1;34m''\u001b[0m\u001b[1;33m:\u001b[0m\u001b[1;33m\u001b[0m\u001b[0m\n\u001b[0;32m     61\u001b[0m                     \u001b[1;31m#print('Empty line.')\u001b[0m\u001b[1;33m\u001b[0m\u001b[1;33m\u001b[0m\u001b[0m\n",
      "\u001b[1;32m~\\Anaconda3\\lib\\site-packages\\serial\\serialwin32.py\u001b[0m in \u001b[0;36mread\u001b[1;34m(self, size)\u001b[0m\n\u001b[0;32m    288\u001b[0m                     \u001b[0mctypes\u001b[0m\u001b[1;33m.\u001b[0m\u001b[0mbyref\u001b[0m\u001b[1;33m(\u001b[0m\u001b[0mself\u001b[0m\u001b[1;33m.\u001b[0m\u001b[0m_overlapped_read\u001b[0m\u001b[1;33m)\u001b[0m\u001b[1;33m,\u001b[0m\u001b[1;33m\u001b[0m\u001b[0m\n\u001b[0;32m    289\u001b[0m                     \u001b[0mctypes\u001b[0m\u001b[1;33m.\u001b[0m\u001b[0mbyref\u001b[0m\u001b[1;33m(\u001b[0m\u001b[0mrc\u001b[0m\u001b[1;33m)\u001b[0m\u001b[1;33m,\u001b[0m\u001b[1;33m\u001b[0m\u001b[0m\n\u001b[1;32m--> 290\u001b[1;33m                     True)\n\u001b[0m\u001b[0;32m    291\u001b[0m                 \u001b[1;32mif\u001b[0m \u001b[1;32mnot\u001b[0m \u001b[0mresult_ok\u001b[0m\u001b[1;33m:\u001b[0m\u001b[1;33m\u001b[0m\u001b[0m\n\u001b[0;32m    292\u001b[0m                     \u001b[1;32mif\u001b[0m \u001b[0mwin32\u001b[0m\u001b[1;33m.\u001b[0m\u001b[0mGetLastError\u001b[0m\u001b[1;33m(\u001b[0m\u001b[1;33m)\u001b[0m \u001b[1;33m!=\u001b[0m \u001b[0mwin32\u001b[0m\u001b[1;33m.\u001b[0m\u001b[0mERROR_OPERATION_ABORTED\u001b[0m\u001b[1;33m:\u001b[0m\u001b[1;33m\u001b[0m\u001b[0m\n",
      "\u001b[1;31mKeyboardInterrupt\u001b[0m: "
     ]
    }
   ],
   "source": [
    "import serial\n",
    "import time\n",
    "\n",
    "def get_date_stamp():\n",
    "    date_stamp = time.strftime(\"%Y-%m-%d\")\n",
    "    return date_stamp\n",
    "\n",
    "def get_datetime_stamp():\n",
    "    datetime_stamp = time.strftime(\"%Y-%m-%d %H:%M:%S\")\n",
    "    return datetime_stamp\n",
    "\n",
    "port_name = 'COM3'\n",
    "baud = 9600\n",
    "timeout = 1\n",
    "port = None\n",
    "csv_file = None\n",
    "\n",
    "try:\n",
    "    port = serial.Serial(port_name, baud, timeout=timeout)\n",
    "    if port is None:\n",
    "        print('Cannot open the serial port.')\n",
    "        print('Please unplug the USB cable and then reconnect Air 2.') \n",
    "    else:\n",
    "        print(port)\n",
    "    port.flushInput() # flush serial input buffer, discarding all its contents\n",
    "    #data_number = 0\n",
    "    \n",
    "    # discard firt read: it may be incomplete data\n",
    "    line = port.readline().decode('utf8')\n",
    "    print('Discard first read: it may be incomplete data')\n",
    "    if line is '':\n",
    "        print('Empty line.')\n",
    "        air_voltage = float('nan')\n",
    "    else:\n",
    "        print(line)\n",
    "        air_voltage = float(line)\n",
    "\n",
    "    date_stamp = get_date_stamp()\n",
    "    #csv_file_name = date_stamp + ' AirView' + '.csv'\n",
    "    csv_file_name = '2017-05-16 AirView.csv'\n",
    "    print(csv_file_name)\n",
    "    print('AirLog will run forever.')\n",
    "    print('If you want to stop AirLog, select Kernel->Interrupt.')\n",
    "\n",
    "    with open(csv_file_name, 'a') as csv_file:\n",
    "        # write an empty data to make Bokeh plot a break point\n",
    "        datetime_stamp = get_datetime_stamp()\n",
    "        data = datetime_stamp + ',\\n'\n",
    "        data_number = 0\n",
    "        # print(str(data_number), data)\n",
    "        csv_file.write(data)\n",
    "        csv_file.flush()\n",
    "        \n",
    "        while True: # infinite loop: read line from serial port\n",
    "            buffer_size = 128\n",
    "            buffer = []\n",
    "            buffer_sum = 0\n",
    "            for i in range(buffer_size):\n",
    "                line = port.readline().decode('utf8')\n",
    "                if line is '':\n",
    "                    #print('Empty line.')\n",
    "                    air_voltage = float('nan')\n",
    "                else:\n",
    "                    #print(line)\n",
    "                    air_voltage = float(line)\n",
    "                buffer.append(air_voltage)\n",
    "                buffer_sum += air_voltage\n",
    "                #datetime_stamp = get_datetime_stamp()\n",
    "                # print(str(i+1), ':', datetime_stamp, line)\n",
    "            average_air_voltage = buffer_sum / buffer_size\n",
    "            datetime_stamp = get_datetime_stamp()\n",
    "            data = datetime_stamp + ',' + str(average_air_voltage) + '\\n'\n",
    "            data_number += 1\n",
    "            # print(str(data_number), data)\n",
    "            csv_file.write(data)\n",
    "            csv_file.flush()\n",
    "#except:\n",
    "    #if port is None:\n",
    "        #print('Cannot open the serial port.')\n",
    "        #print('Please unplug the USB cable and then reconnect Air 2.')\n",
    "finally:\n",
    "    #csv_file.close()\n",
    "    if csv_file is not None:\n",
    "        print('CSV file has been closed:', csv_file.closed)\n",
    "\n",
    "    if port is not None:\n",
    "        port.close()\n",
    "        print(port)"
   ]
  },
  {
   "cell_type": "code",
   "execution_count": null,
   "metadata": {
    "collapsed": true
   },
   "outputs": [],
   "source": []
  }
 ],
 "metadata": {
  "kernelspec": {
   "display_name": "Python 3",
   "language": "python",
   "name": "python3"
  }
 },
 "nbformat": 4,
 "nbformat_minor": 2
}
