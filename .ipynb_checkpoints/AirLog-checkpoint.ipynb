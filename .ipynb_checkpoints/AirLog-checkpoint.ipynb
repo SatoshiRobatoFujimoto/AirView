{
 "cells": [
  {
   "cell_type": "markdown",
   "metadata": {},
   "source": [
    "# AirLog V1.0.3"
   ]
  },
  {
   "cell_type": "markdown",
   "metadata": {},
   "source": [
    "## save air voltage signals to a CSV file"
   ]
  },
  {
   "cell_type": "markdown",
   "metadata": {},
   "source": [
    "## Algorithm: \n",
    "repeat forever:\n",
    "    1. read 128 data from serial port\n",
    "    2. average them\n",
    "    3. write the average to csv file"
   ]
  },
  {
   "cell_type": "code",
   "execution_count": null,
   "metadata": {
    "collapsed": false
   },
   "outputs": [],
   "source": [
    "import serial\n",
    "import time\n",
    "\n",
    "def get_date_stamp():\n",
    "    date_stamp = time.strftime(\"%Y-%m-%d\")\n",
    "    return date_stamp\n",
    "\n",
    "def get_datetime_stamp():\n",
    "    datetime_stamp = time.strftime(\"%Y-%m-%d %H:%M:%S\")\n",
    "    return datetime_stamp\n",
    "\n",
    "port_name = 'COM3'\n",
    "baud = 9600\n",
    "timeout = 1\n",
    "port = None\n",
    "csv_file = None\n",
    "\n",
    "try:\n",
    "    port = serial.Serial(port_name, baud, timeout=timeout)\n",
    "    if port is None:\n",
    "        print('Cannot open the serial port.')\n",
    "        print('Please unplug the USB cable and then reconnect Air 2.') \n",
    "    else:\n",
    "        print(port)\n",
    "    port.flushInput() # flush serial input buffer, discarding all its contents\n",
    "    data_number = 0\n",
    "    \n",
    "    # discard firt read: it may be incomplete data\n",
    "    line = port.readline().decode('utf8')\n",
    "    print('Discard first read: it may be incomplete data')\n",
    "    if line is '':\n",
    "        print('Empty line.')\n",
    "        air_voltage = float('nan')\n",
    "    else:\n",
    "        print(line)\n",
    "        air_voltage = float(line)\n",
    "\n",
    "    date_stamp = get_date_stamp()\n",
    "    csv_file_name = date_stamp + ' AirView' + '.csv'\n",
    "    print(csv_file_name)\n",
    "    print('AirLog will run forever.')\n",
    "    print('If you want to stop AirLog, select Kernel->Interrupt.')\n",
    "\n",
    "    with open(csv_file_name, 'a') as csv_file:\n",
    "        while True: # infinite loop: read line from serial port\n",
    "            buffer_size = 128\n",
    "            buffer = []\n",
    "            buffer_sum = 0\n",
    "            for i in range(buffer_size):\n",
    "                line = port.readline().decode('utf8')\n",
    "                if line is '':\n",
    "                    #print('Empty line.')\n",
    "                    air_voltage = float('nan')\n",
    "                else:\n",
    "                    #print(line)\n",
    "                    air_voltage = float(line)\n",
    "                buffer.append(air_voltage)\n",
    "                buffer_sum += air_voltage\n",
    "                datetime_stamp = get_datetime_stamp()\n",
    "                # print(str(i+1), ':', datetime_stamp, line)\n",
    "            average_air_voltage = buffer_sum / buffer_size\n",
    "            data = datetime_stamp + ',' + str(average_air_voltage) + '\\n'\n",
    "            data_number += 1\n",
    "            # print(str(data_number), data)\n",
    "            csv_file.write(data)\n",
    "            csv_file.flush()\n",
    "#except:\n",
    "    #if port is None:\n",
    "        #print('Cannot open the serial port.')\n",
    "        #print('Please unplug the USB cable and then reconnect Air 2.')\n",
    "finally:\n",
    "    #csv_file.close()\n",
    "    if csv_file is not None:\n",
    "        print('CSV file has been closed:', csv_file.closed)\n",
    "\n",
    "    if port is not None:\n",
    "        port.close()\n",
    "        print(port)"
   ]
  },
  {
   "cell_type": "code",
   "execution_count": null,
   "metadata": {
    "collapsed": true
   },
   "outputs": [],
   "source": []
  }
 ],
 "metadata": {
  "kernelspec": {
   "display_name": "Python 3",
   "language": "python",
   "name": "python3"
  },
  "language_info": {
   "codemirror_mode": {
    "name": "ipython",
    "version": 3
   },
   "file_extension": ".py",
   "mimetype": "text/x-python",
   "name": "python",
   "nbconvert_exporter": "python",
   "pygments_lexer": "ipython3",
   "version": "3.6.0"
  }
 },
 "nbformat": 4,
 "nbformat_minor": 2
}
