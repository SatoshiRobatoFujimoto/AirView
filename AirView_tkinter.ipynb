{
 "cells": [
  {
   "cell_type": "code",
   "execution_count": 3,
   "metadata": {
    "collapsed": true
   },
   "outputs": [],
   "source": [
    "# AirView\n",
    "# plot air voltage signals from a CSV file\n",
    "# with Matplotlib and tkinter\n",
    "#\n",
    "# 台灣地震預測研究所 所長\n",
    "# 林湧森\n",
    "# 2017-11-17 09:52 UTC+8\n",
    "\n",
    "import sys\n",
    "import tkinter as Tk\n",
    "import matplotlib\n",
    "\n",
    "matplotlib.use('TkAgg')\n",
    "\n",
    "from numpy import arange, sin, pi\n",
    "from matplotlib.backends.backend_tkagg import FigureCanvasTkAgg\n",
    "from matplotlib.backends.backend_tkagg import NavigationToolbar2TkAgg\n",
    "from matplotlib.backend_bases import key_press_handler\n",
    "from matplotlib.figure import Figure\n",
    "\n",
    "import pandas as pd\n",
    "import numpy as np\n",
    "from bokeh.plotting import figure, output_file, show, output_notebook\n",
    "from bokeh.models import DatetimeTickFormatter\n",
    "import gc\n",
    "\n",
    "graph_title = 'AirView 5.0.0 宜蘭站 Yilan Station  空氣2號 Air 2 (Arduino Uno + LF298N)'\n",
    "csv_file_name = '2017-05-16 AirView.csv'\n",
    "df = pd.read_csv(csv_file_name, names=['Time', 'Air Voltage (mV)'], \n",
    "                 parse_dates=['Time'])\n",
    "\n",
    "root = Tk.Tk()\n",
    "root.title(graph_title)\n",
    "#root.title('Matplotlib in Tk')\n",
    "\n",
    "# 設定圖形尺寸與品質\n",
    "f = Figure(figsize=(9, 5), dpi=100)\n",
    "a = f.add_subplot(111)\n",
    "\n",
    "# set x and y\n",
    "#x = df['Time']\n",
    "#y = df['Air Voltage (mV)']\n",
    "#x = arange(0, 3, 0.01)\n",
    "#y = sin(2 * pi * x)\n",
    "\n",
    "# 繪製圖形\n",
    "a.plot(df['Time'], df['Air Voltage (mV)'])\n",
    "\n",
    "# Release memory\n",
    "#del df\n",
    "#gc.collect()\n",
    "\n",
    "# 把繪製的圖形顯示到Tkinter視窗\n",
    "canvas = FigureCanvasTkAgg(f, master=root)\n",
    "canvas.show()\n",
    "canvas.get_tk_widget().pack(side=Tk.TOP, fill=Tk.BOTH, expand=1)\n",
    "\n",
    "# 把Matplotlib繪製圖形的工具列顯示到Tkinter視窗\n",
    "toolbar = NavigationToolbar2TkAgg(canvas, root)\n",
    "toolbar.update()\n",
    "canvas._tkcanvas.pack(side=Tk.TOP, fill=Tk.BOTH, expand=1)\n",
    "\n",
    "Tk.mainloop()"
   ]
  },
  {
   "cell_type": "code",
   "execution_count": null,
   "metadata": {
    "collapsed": true
   },
   "outputs": [],
   "source": []
  }
 ],
 "metadata": {
  "kernelspec": {
   "display_name": "Python 3",
   "language": "python",
   "name": "python3"
  },
  "language_info": {
   "codemirror_mode": {
    "name": "ipython",
    "version": 3
   },
   "file_extension": ".py",
   "mimetype": "text/x-python",
   "name": "python",
   "nbconvert_exporter": "python",
   "pygments_lexer": "ipython3",
   "version": "3.6.2"
  }
 },
 "nbformat": 4,
 "nbformat_minor": 2
}
