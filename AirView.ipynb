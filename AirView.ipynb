{
 "cells": [
  {
   "cell_type": "code",
   "execution_count": 1,
   "metadata": {
    "collapsed": false
   },
   "outputs": [],
   "source": [
    "import threading\n",
    "import serial\n",
    "from bokeh.plotting import figure, output_file, show"
   ]
  },
  {
   "cell_type": "code",
   "execution_count": 10,
   "metadata": {
    "collapsed": true
   },
   "outputs": [],
   "source": [
    "port = 'COM3'\n",
    "baud = 9600\n",
    "timeout = 1\n",
    "serial_port = serial.Serial(port, baud, timeout=timeout)"
   ]
  },
  {
   "cell_type": "code",
   "execution_count": 12,
   "metadata": {
    "collapsed": false
   },
   "outputs": [
    {
     "name": "stdout",
     "output_type": "stream",
     "text": [
      "Serial<id=0x206f070a9b0, open=True>(port='COM3', baudrate=9600, bytesize=8, parity='N', stopbits=1, timeout=1, xonxoff=False, rtscts=False, dsrdtr=False)\n"
     ]
    }
   ],
   "source": [
    "if serial_port is None:\n",
    "    print('Cannot open serial port.')\n",
    "    print('Please unplug the USB cable and then reconnect.')\n",
    "else:\n",
    "    print(serial_port)"
   ]
  },
  {
   "cell_type": "code",
   "execution_count": 16,
   "metadata": {
    "collapsed": false
   },
   "outputs": [
    {
     "name": "stdout",
     "output_type": "stream",
     "text": [
      "1515\r\n",
      "\n",
      "1520\r\n",
      "\n",
      "1520\r\n",
      "\n",
      "1515\r\n",
      "\n",
      "1520\r\n",
      "\n",
      "1520\r\n",
      "\n",
      "1520\r\n",
      "\n",
      "1520\r\n",
      "\n",
      "1515\r\n",
      "\n",
      "1520\r\n",
      "\n",
      "[1515.0, 1520.0, 1520.0, 1515.0, 1520.0, 1520.0, 1520.0, 1520.0, 1515.0, 1520.0]\n"
     ]
    }
   ],
   "source": [
    "data = []\n",
    "for i in range(10):\n",
    "    line = serial_port.readline().decode('utf8')\n",
    "    air_voltage = float(line)\n",
    "    data.append(air_voltage)\n",
    "    print(line)\n",
    "print(data)"
   ]
  },
  {
   "cell_type": "code",
   "execution_count": 17,
   "metadata": {
    "collapsed": false
   },
   "outputs": [
    {
     "name": "stdout",
     "output_type": "stream",
     "text": [
      "[0, 1, 2, 3, 4, 5, 6, 7, 8, 9]\n"
     ]
    }
   ],
   "source": [
    "x = list(range(10))\n",
    "print(x)"
   ]
  },
  {
   "cell_type": "code",
   "execution_count": 18,
   "metadata": {
    "collapsed": false
   },
   "outputs": [
    {
     "name": "stdout",
     "output_type": "stream",
     "text": [
      "[1515.0, 1520.0, 1520.0, 1515.0, 1520.0, 1520.0, 1520.0, 1520.0, 1515.0, 1520.0]\n"
     ]
    }
   ],
   "source": [
    "y = data\n",
    "print(y)"
   ]
  },
  {
   "cell_type": "code",
   "execution_count": 21,
   "metadata": {
    "collapsed": false
   },
   "outputs": [
    {
     "name": "stderr",
     "output_type": "stream",
     "text": [
      "INFO:bokeh.core.state:Session output file 'AirView.html' already exists, will be overwritten.\n"
     ]
    }
   ],
   "source": [
    "# output to static HTML file\n",
    "output_file(\"AirView.html\")\n",
    "\n",
    "# create a new plot with a title and axis labels\n",
    "p = figure(title=\"AirView\", x_axis_label='Time', y_axis_label='Air Voltage')\n",
    "\n",
    "# add a line renderer with legend and line thickness\n",
    "p.line(x, y, legend=\"A0\", line_width=1)\n",
    "\n",
    "# show the results\n",
    "show(p)"
   ]
  },
  {
   "cell_type": "code",
   "execution_count": null,
   "metadata": {
    "collapsed": true
   },
   "outputs": [],
   "source": [
    "port.close()"
   ]
  }
 ],
 "metadata": {
  "kernelspec": {
   "display_name": "Python 3",
   "language": "python",
   "name": "python3"
  },
  "language_info": {
   "codemirror_mode": {
    "name": "ipython",
    "version": 3
   },
   "file_extension": ".py",
   "mimetype": "text/x-python",
   "name": "python",
   "nbconvert_exporter": "python",
   "pygments_lexer": "ipython3",
   "version": "3.6.0"
  }
 },
 "nbformat": 4,
 "nbformat_minor": 2
}
