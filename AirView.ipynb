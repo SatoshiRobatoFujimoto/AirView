{
 "cells": [
  {
   "cell_type": "markdown",
   "metadata": {},
   "source": [
    "# AirView"
   ]
  },
  {
   "cell_type": "markdown",
   "metadata": {},
   "source": [
    "## plot air voltage signals from a CSV file"
   ]
  },
  {
   "cell_type": "code",
   "execution_count": 1,
   "metadata": {
    "collapsed": false
   },
   "outputs": [],
   "source": [
    "import pandas as pd\n",
    "import numpy as np\n",
    "from bokeh.plotting import figure, output_file, show, output_notebook\n",
    "from bokeh.models import DatetimeTickFormatter\n",
    "\n",
    "graph_title = 'AirView V4.0.6'\n",
    "csv_file_name = '2017-05-16 AirView.csv'\n",
    "df = pd.read_csv(csv_file_name, names=['Time', 'Air Voltage (mV)'], \n",
    "                 parse_dates=['Time'])\n",
    "df\n",
    "\n",
    "#output_notebook()\n",
    "output_file(\"AirView.html\")\n",
    "\n",
    "p = figure(plot_width=900, plot_height=500, x_axis_type=\"datetime\",\n",
    "        title=graph_title, \n",
    "        x_axis_label='Time', y_axis_label='Air Voltage (mV)')\n",
    "\n",
    "p.xaxis[0].formatter = DatetimeTickFormatter(\n",
    "        years = '%Y',\n",
    "        months = '%Y-%m',\n",
    "        days = '%Y-%m-%d',\n",
    "        hours = '%H:%M:%S',\n",
    "        hourmin = '%H:%M:%S',\n",
    "        minutes = '%H:%M:%S',\n",
    "        minsec = '%H:%M:%S',\n",
    "        seconds = '%H:%M:%S',\n",
    "        milliseconds = '%H:%M:%S',\n",
    "        microseconds = '%H:%M:%S'\n",
    "        )\n",
    "\n",
    "p.line(df['Time'], df['Air Voltage (mV)'])\n",
    "\n",
    "show(p)"
   ]
  },
  {
   "cell_type": "code",
   "execution_count": null,
   "metadata": {
    "collapsed": true
   },
   "outputs": [],
   "source": []
  }
 ],
 "metadata": {
  "kernelspec": {
   "display_name": "Python 3",
   "language": "python",
   "name": "python3"
  },
  "language_info": {
   "codemirror_mode": {
    "name": "ipython",
    "version": 3
   },
   "file_extension": ".py",
   "mimetype": "text/x-python",
   "name": "python",
   "nbconvert_exporter": "python",
   "pygments_lexer": "ipython3",
   "version": "3.6.0"
  }
 },
 "nbformat": 4,
 "nbformat_minor": 2
}
