{
 "cells": [
  {
   "cell_type": "markdown",
   "metadata": {},
   "source": [
    "# AirView V3.0.0"
   ]
  },
  {
   "cell_type": "markdown",
   "metadata": {},
   "source": [
    "## plot air voltage signals from a CSV file"
   ]
  },
  {
   "cell_type": "code",
   "execution_count": 1,
   "metadata": {
    "collapsed": true
   },
   "outputs": [],
   "source": [
    "import pandas as pd\n",
    "import numpy as np\n",
    "from bokeh.plotting import figure, output_file, show"
   ]
  },
  {
   "cell_type": "code",
   "execution_count": 12,
   "metadata": {
    "collapsed": false
   },
   "outputs": [
    {
     "name": "stderr",
     "output_type": "stream",
     "text": [
      "INFO:bokeh.core.state:Session output file 'datetime.html' already exists, will be overwritten.\n"
     ]
    }
   ],
   "source": [
    "graph_title = 'AirView V3.0.0'\n",
    "csv_file_name = '2017-05-08 AirView.csv'\n",
    "df = pd.read_csv(csv_file_name, names=['Time', 'Air Voltage (mV)'], \n",
    "                 parse_dates=['Time'])\n",
    "df\n",
    "\n",
    "output_file(\"datetime.html\")\n",
    "\n",
    "p = figure(plot_width=900, plot_height=500, x_axis_type=\"datetime\",\n",
    "          title=graph_title, x_axis_label='Time', y_axis_label='Air Voltage (mV)')\n",
    "\n",
    "p.line(df['Time'], df['Air Voltage (mV)'], \n",
    "       color='navy', line_width=2, alpha=0.5)\n",
    "\n",
    "show(p)"
   ]
  },
  {
   "cell_type": "code",
   "execution_count": null,
   "metadata": {
    "collapsed": true
   },
   "outputs": [],
   "source": []
  }
 ],
 "metadata": {
  "kernelspec": {
   "display_name": "Python 3",
   "language": "python",
   "name": "python3"
  },
  "language_info": {
   "codemirror_mode": {
    "name": "ipython",
    "version": 3
   },
   "file_extension": ".py",
   "mimetype": "text/x-python",
   "name": "python",
   "nbconvert_exporter": "python",
   "pygments_lexer": "ipython3",
   "version": "3.6.0"
  }
 },
 "nbformat": 4,
 "nbformat_minor": 2
}
